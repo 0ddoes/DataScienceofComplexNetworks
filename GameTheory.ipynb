{
  "nbformat": 4,
  "nbformat_minor": 0,
  "metadata": {
    "colab": {
      "name": "GameTheory.ipynb",
      "provenance": [],
      "collapsed_sections": []
    },
    "kernelspec": {
      "name": "python3",
      "display_name": "Python 3"
    },
    "language_info": {
      "name": "python"
    }
  },
  "cells": [
    {
      "cell_type": "markdown",
      "source": [
        "# Game Theory\n",
        "## Payoff Matrix"
      ],
      "metadata": {
        "id": "1ZIBorGML8K3"
      }
    },
    {
      "cell_type": "code",
      "source": [
        "import numpy as np\n",
        "import math\n",
        "import pandas as pd"
      ],
      "metadata": {
        "id": "1nWFIW0EL9VQ"
      },
      "execution_count": 1,
      "outputs": []
    },
    {
      "cell_type": "code",
      "source": [
        "class Game:\n",
        "    def __init__(self, tab, actions, actions2=[], asymetrical=False):\n",
        "        self.actions = actions\n",
        "        m = np.array(tab, dtype=[(\"x\", object), (\"y\", object)])\n",
        "        if asymetrical:\n",
        "            self.size = len(actions)\n",
        "            self.size2 = len(actions2)\n",
        "            self.actions2 = actions2\n",
        "            self.scores = m.reshape(self.size, self.size2)\n",
        "        else:\n",
        "            self.size = int(math.sqrt(len(tab)))\n",
        "            self.scores = m.reshape(self.size, self.size)\n",
        "        self.asymetrical = asymetrical\n",
        "\n",
        "    def getNash(self):\n",
        "        max_x = np.matrix(self.scores[\"x\"].max(0)).repeat(self.size, axis=0)\n",
        "        bool_x = self.scores[\"x\"] == max_x\n",
        "        if self.asymetrical:\n",
        "            max_y = (\n",
        "                np.matrix(self.scores[\"y\"].max(1))\n",
        "                .transpose()\n",
        "                .repeat(self.size2, axis=1)\n",
        "            )\n",
        "        else:\n",
        "            max_y = (\n",
        "                np.matrix(self.scores[\"y\"].max(1)).transpose().repeat(self.size, axis=1)\n",
        "            )\n",
        "        bool_y = self.scores[\"y\"] == max_y\n",
        "        bool_x_y = bool_x & bool_y\n",
        "        result = np.where(bool_x_y == True)\n",
        "        listOfCoordinates = list(zip(result[0], result[1]))\n",
        "        return listOfCoordinates\n",
        "\n",
        "    def isPareto(self, t, s):\n",
        "        return (\n",
        "            True\n",
        "            if (len(s) == 0)\n",
        "            else (s[0][0] <= t[0] or s[0][1] <= t[1]) and self.isPareto(t, s[1:])\n",
        "        )\n",
        "\n",
        "    def getPareto(self):\n",
        "        x = 0\n",
        "        y = 0\n",
        "        res = list()\n",
        "        liste = self.scores.flatten()\n",
        "        for s in liste:\n",
        "            if x == self.size:\n",
        "                x = 0\n",
        "                y = y + 1\n",
        "            if self.isPareto(s, liste):\n",
        "                res.append((x, y))\n",
        "            x = x + 1\n",
        "        return res\n",
        "\n",
        "    def getDominantStrategies(self, strict=True):\n",
        "        dominatedLines = []\n",
        "        dominatedColumns = []\n",
        "        findDominated = True\n",
        "        while (\n",
        "            findDominated\n",
        "            and (len(dominatedLines) != self.size - 1)\n",
        "            and (len(dominatedColumns) != self.size - 1)\n",
        "        ):\n",
        "            findDominated = False\n",
        "            # on regarde les lignes dominées\n",
        "            for i in range(self.size - 1):\n",
        "                line1 = self.scores[\"x\"][i]\n",
        "                line2 = self.scores[\"x\"][i + 1]\n",
        "                if self.compare(line1, line2, dominatedColumns, strict):\n",
        "                    if i not in dominatedLines:\n",
        "                        dominatedLines += [i]\n",
        "                        findDominated = True\n",
        "                if self.compare(line2, line1, dominatedColumns, strict):\n",
        "                    if i + 1 not in dominatedLines:\n",
        "                        dominatedLines += [i + 1]\n",
        "                        findDominated = True\n",
        "            # on regarde les colonnes dominées\n",
        "\n",
        "            if self.asymetrical:\n",
        "                lenY = self.size2\n",
        "            else:\n",
        "                lenY = self.size\n",
        "            for i in range(lenY - 1):\n",
        "                c1 = self.scores[\"y\"].transpose()[i]\n",
        "                c2 = self.scores[\"y\"].transpose()[i + 1]\n",
        "                if self.compare(c1, c2, dominatedLines, strict):\n",
        "                    if i not in dominatedColumns:\n",
        "                        dominatedColumns += [i]\n",
        "                        findDominated = True\n",
        "                if self.compare(c2, c1, dominatedLines, strict):\n",
        "                    if i + 1 not in dominatedColumns:\n",
        "                        dominatedColumns += [i + 1]\n",
        "                        findDominated = True\n",
        "        return self.result(dominatedLines, dominatedColumns)\n",
        "\n",
        "    def compare(self, l1, l2, tab, strict):\n",
        "        dominated = True\n",
        "        for i in range(self.size):\n",
        "            if strict:\n",
        "                if (l1[i] < l2[i] and i not in tab) or i in tab:\n",
        "                    dominated = dominated and True\n",
        "                else:\n",
        "                    dominated = dominated and False\n",
        "            else:\n",
        "                if (l1[i] <= l2[i] and i not in tab) or i in tab:\n",
        "                    dominated = dominated and True\n",
        "                else:\n",
        "                    dominated = dominated and False\n",
        "        return dominated\n",
        "\n",
        "    def result(self, dominatedLines, dominatedColumns):\n",
        "        x = list()\n",
        "        y = list()\n",
        "        res = list()\n",
        "        tab = list()\n",
        "        colums = list()\n",
        "        rows = list()\n",
        "        for i in range(self.size):\n",
        "            if i not in dominatedLines:\n",
        "                x.append(i)\n",
        "                colums.append(self.actions[i])\n",
        "        if self.asymetrical:\n",
        "            lenY = self.size2\n",
        "        else:\n",
        "            lenY = self.size\n",
        "        for i in range(lenY):\n",
        "            if i not in dominatedColumns:\n",
        "                y.append(i)\n",
        "                if self.asymetrical:\n",
        "                    rows.append(self.actions2[i])\n",
        "                else:\n",
        "                    rows.append(self.actions[i])\n",
        "        for indX in x:\n",
        "            for indY in y:\n",
        "                res.append((indX, indY))\n",
        "                tab.append(self.scores[indX][indY])\n",
        "        print(res)\n",
        "        return Game(tab, colums, rows, True)\n",
        "\n",
        "    def prettyPrint(self):\n",
        "        game = pd.DataFrame(np.nan, self.actions, self.actions, dtype=object)\n",
        "        for i in range(self.size):\n",
        "            for j in range(self.size):\n",
        "                game.iat[i, j] = self.scores[i][j]\n",
        "        print(game)\n",
        "\n",
        "print(\"All is ok\")"
      ],
      "metadata": {
        "colab": {
          "base_uri": "https://localhost:8080/"
        },
        "id": "4NIEUlntMChg",
        "outputId": "9df60750-6810-4c62-de8b-44ccda2e6b10"
      },
      "execution_count": 14,
      "outputs": [
        {
          "output_type": "stream",
          "name": "stdout",
          "text": [
            "All is ok\n"
          ]
        }
      ]
    },
    {
      "cell_type": "code",
      "source": [
        "# Some famous games\n",
        "\n",
        "# battle of the sexes\n",
        "gs=[(3,2),(1,1),(0,0),(2,3)]     \n",
        "\n",
        "# chicken game\n",
        "cg=[(-100,-100),(2,-2),(-2,2),(0,0)]     \n",
        "\n",
        "# matching pennies\n",
        "mp=[(1,-1),(-1,1),(-1,1),(1,-1)] \n",
        "\n",
        "# rock-paper-scissors\n",
        "rpc=[(0,0),(-1,1),(1,-1),(1,-1),(0,0),(-1,1),(-1,1),(1,-1),(0,0)] \n",
        "\n",
        "# prisoner's dilemma\n",
        "dp =[(3,3),(0,5),(5,0),(1,1)]\n",
        "g = Game(dp,['C','D'])\n",
        "g.prettyPrint()"
      ],
      "metadata": {
        "colab": {
          "base_uri": "https://localhost:8080/"
        },
        "id": "V9CdL268MFys",
        "outputId": "a9fb197d-87a2-4500-8dc2-2742aa1b5101"
      },
      "execution_count": 3,
      "outputs": [
        {
          "output_type": "stream",
          "name": "stdout",
          "text": [
            "        C       D\n",
            "C  [3, 3]  [0, 5]\n",
            "D  [5, 0]  [1, 1]\n"
          ]
        }
      ]
    },
    {
      "cell_type": "code",
      "source": [
        "def getNash(self):\n",
        "    max_x = np.matrix(self.scores[\"x\"].max(0)).repeat(self.size, axis=0)\n",
        "    bool_x = self.scores[\"x\"] == max_x\n",
        "    max_y = np.matrix(self.scores[\"y\"].max(1)).transpose().repeat(self.size, axis=1)\n",
        "    bool_y = self.scores[\"y\"] == max_y\n",
        "    bool_x_y = bool_x & bool_y\n",
        "    result = np.where(bool_x_y == True)\n",
        "    listOfCoordinates = list(zip(result[0], result[1]))\n",
        "    return listOfCoordinates\n",
        "\n",
        "\n",
        "print(\"All is ok\")"
      ],
      "metadata": {
        "colab": {
          "base_uri": "https://localhost:8080/"
        },
        "id": "gRsUzhiHMLv6",
        "outputId": "8c03e0bf-cbd2-4748-b3e1-e45ea38d4b44"
      },
      "execution_count": 4,
      "outputs": [
        {
          "output_type": "stream",
          "name": "stdout",
          "text": [
            "All is ok\n"
          ]
        }
      ]
    },
    {
      "cell_type": "code",
      "source": [
        "## Application in Battle of Sexes\n",
        "\n",
        "gs = [(3, 2), (1, 1), (0, 0), (2, 3)]\n",
        "g = Game(gs, [\"Opera\", \"Stadium\"])\n",
        "\n",
        "# We recover the indexes of the Nash equilibrium(s)\n",
        "listOfCoordinates = getNash(g)\n",
        "print(\"The indexes of Nash's equilibrium : \")\n",
        "print(listOfCoordinates)\n",
        "\n",
        "# We print the moves corresponding to these equilibrium\n",
        "print(\"The corresponding rounds : \")\n",
        "for cor in listOfCoordinates:\n",
        "    print(g.actions[cor[0]], g.actions[cor[1]])\n",
        "\n",
        "# We print the corresponding scores\n",
        "print(\"The corresponding scores : \")\n",
        "for cor in listOfCoordinates:\n",
        "    print(g.scores[cor[0]][cor[1]])"
      ],
      "metadata": {
        "colab": {
          "base_uri": "https://localhost:8080/"
        },
        "id": "ixgO7Pl8MTVg",
        "outputId": "7bb02e61-5d4b-4d78-e7b1-5168d2160473"
      },
      "execution_count": 5,
      "outputs": [
        {
          "output_type": "stream",
          "name": "stdout",
          "text": [
            "The indexes of Nash's equilibrium : \n",
            "[(0, 0), (1, 1)]\n",
            "The corresponding rounds : \n",
            "Opera Opera\n",
            "Stadium Stadium\n",
            "The corresponding scores : \n",
            "(3, 2)\n",
            "(2, 3)\n"
          ]
        }
      ]
    },
    {
      "cell_type": "code",
      "source": [
        "# Find find Nash's equilibrium(s) (if any exist) for the rock-paper-scissors game \n",
        "rpc=[(0,0),(-1,1),(1,-1),(1,-1),(0,0),(-1,1),(-1,1),(1,-1),(0,0)]\n",
        "g = Game(rpc,['R','P','C'])\n"
      ],
      "metadata": {
        "id": "axg8pqwCMaTA"
      },
      "execution_count": 6,
      "outputs": []
    },
    {
      "cell_type": "markdown",
      "source": [
        "## Pareto Optimum"
      ],
      "metadata": {
        "id": "62dylKrIMid5"
      }
    },
    {
      "cell_type": "code",
      "source": [
        "def isPareto(self, t, s):\n",
        "    return (\n",
        "        True\n",
        "        if (len(s) == 0)\n",
        "        else (s[0][0] <= t[0] or s[0][1] <= t[1]) and isPareto(self, t, s[1:])\n",
        "    )\n",
        "\n",
        "\n",
        "def getPareto(self):\n",
        "    x = 0\n",
        "    y = 0\n",
        "    res = list()\n",
        "    liste = self.scores.flatten()\n",
        "    for s in liste:\n",
        "        if x == self.size:\n",
        "            x = 0\n",
        "            y = y + 1\n",
        "        if isPareto(self, s, liste):\n",
        "            res.append((x, y))\n",
        "        x = x + 1\n",
        "    return res\n",
        "\n",
        "\n",
        "print(\"All is ok\")"
      ],
      "metadata": {
        "colab": {
          "base_uri": "https://localhost:8080/"
        },
        "id": "xoObjBG6MgVE",
        "outputId": "fc91745d-8e09-4833-bf11-f17ac64ccc7a"
      },
      "execution_count": 7,
      "outputs": [
        {
          "output_type": "stream",
          "name": "stdout",
          "text": [
            "All is ok\n"
          ]
        }
      ]
    },
    {
      "cell_type": "code",
      "source": [
        "gs=[(3,2),(1,1),(0,0),(2,3)]\n",
        "g = Game(gs,['Opera','Stadium'])\n",
        "\n",
        "# We recover the indexes of the pareto optimum(s)\n",
        "listOfCoordinates = getPareto(g)\n",
        "print(\"The indexes of Pareto's optimums : \")\n",
        "print(listOfCoordinates)\n",
        "\n",
        "# We print the moves corresponding to these optimums\n",
        "print(\"The corresponding rounds : \")\n",
        "for cor in listOfCoordinates : \n",
        "    print(g.actions[cor[0]], g.actions[cor[1]])\n",
        "\n",
        "# We print the corresponding scores\n",
        "print(\"The corresponding scores : \")\n",
        "for cor in listOfCoordinates : \n",
        "    print(g.scores[cor[0]][cor[1]])"
      ],
      "metadata": {
        "colab": {
          "base_uri": "https://localhost:8080/"
        },
        "id": "BPl-0wM2Mlhy",
        "outputId": "f48bcf3d-b3d3-4689-c802-eed33c0e5532"
      },
      "execution_count": 8,
      "outputs": [
        {
          "output_type": "stream",
          "name": "stdout",
          "text": [
            "The indexes of Pareto's optimums : \n",
            "[(0, 0), (1, 1)]\n",
            "The corresponding rounds : \n",
            "Opera Opera\n",
            "Stadium Stadium\n",
            "The corresponding scores : \n",
            "(3, 2)\n",
            "(2, 3)\n"
          ]
        }
      ]
    },
    {
      "cell_type": "code",
      "source": [
        "# Find find Pareto's equilibrium(s) (if any exist) for the rock-paper-scissors game \n",
        "\n",
        "rpc=[(0,0),(-1,1),(1,-1),(1,-1),(0,0),(-1,1),(-1,1),(1,-1),(0,0)]\n",
        "g = Game(rpc,['R','P','C'])"
      ],
      "metadata": {
        "id": "dbmu5YHzMn6M"
      },
      "execution_count": 9,
      "outputs": []
    },
    {
      "cell_type": "markdown",
      "source": [
        "## Dominant Strategy Equilibrium"
      ],
      "metadata": {
        "id": "ASen0US0MufV"
      }
    },
    {
      "cell_type": "code",
      "source": [
        "def getDominantStrategies(self, strict=\"True\"):\n",
        "    dominatedLines = []\n",
        "    dominatedColumns = []\n",
        "    findDominated = True\n",
        "    while (\n",
        "        findDominated\n",
        "        and (len(dominatedLines) != self.size - 1)\n",
        "        and (len(dominatedColumns) != self.size - 1)\n",
        "    ):\n",
        "        findDominated = False\n",
        "        # We look at dominated lines\n",
        "        for i in range(self.size - 1):\n",
        "            line1 = self.scores[\"x\"][i]\n",
        "            line2 = self.scores[\"x\"][i + 1]\n",
        "            if compare(self, line1, line2, dominatedColumns, strict):\n",
        "                if i not in dominatedLines:\n",
        "                    dominatedLines += [i]\n",
        "                    findDominated = True\n",
        "            if compare(self, line2, line1, dominatedColumns, strict):\n",
        "                if i + 1 not in dominatedLines:\n",
        "                    dominatedLines += [i + 1]\n",
        "                    findDominated = True\n",
        "        # We look at dominated columns\n",
        "        for i in range(self.size - 1):\n",
        "            c1 = self.scores[\"y\"].transpose()[i]\n",
        "            c2 = self.scores[\"y\"].transpose()[i + 1]\n",
        "            if compare(self, c1, c2, dominatedLines, strict):\n",
        "                if i not in dominatedColumns:\n",
        "                    dominatedColumns += [i]\n",
        "                    findDominated = True\n",
        "            if compare(self, c2, c1, dominatedLines, strict):\n",
        "                if i + 1 not in dominatedColumns:\n",
        "                    dominatedColumns += [i + 1]\n",
        "                    findDominated = True\n",
        "    return result(self, dominatedLines, dominatedColumns)\n",
        "\n",
        "\n",
        "def compare(self, l1, l2, tab, strict):\n",
        "    dominated = True\n",
        "    for i in range(self.size):\n",
        "        if strict:\n",
        "            if (l1[i] < l2[i] and i not in tab) or i in tab:\n",
        "                dominated = dominated and True\n",
        "            else:\n",
        "                dominated = dominated and False\n",
        "        else:\n",
        "            if (l1[i] <= l2[i] and i not in tab) or i in tab:\n",
        "                dominated = dominated and True\n",
        "            else:\n",
        "                dominated = dominated and False\n",
        "    return dominated\n",
        "\n",
        "\n",
        "def result(self, dominatedLines, dominatedColumns):\n",
        "    x = list()\n",
        "    y = list()\n",
        "    res = list()\n",
        "\n",
        "    for i in range(self.size):\n",
        "        if i not in dominatedLines:\n",
        "            x.append(i)\n",
        "        if i not in dominatedColumns:\n",
        "            y.append(i)\n",
        "\n",
        "    for indX in x:\n",
        "        for indY in y:\n",
        "            res.append((indX, indY))\n",
        "\n",
        "    return res\n",
        "\n",
        "\n",
        "print(\"All is ok\")"
      ],
      "metadata": {
        "colab": {
          "base_uri": "https://localhost:8080/"
        },
        "id": "J1cDBd99MsS_",
        "outputId": "5a7c2d40-2d1a-4693-fe93-587c285dd796"
      },
      "execution_count": 10,
      "outputs": [
        {
          "output_type": "stream",
          "name": "stdout",
          "text": [
            "All is ok\n"
          ]
        }
      ]
    },
    {
      "cell_type": "code",
      "source": [
        "gs=[(3,2),(1,1),(0,0),(2,3)]     \n",
        "g = Game(gs,['Opera','Stadium'])\n",
        "\n",
        "\n",
        "# We recover the indexes of the non-dominated strategy(ies):\n",
        "print(\"Strongly dominated strategies method\")\n",
        "listOfCoordinates = getDominantStrategies(g)\n",
        "print(\"Non-dominated strategies indexes : \")\n",
        "print(listOfCoordinates)\n",
        "\n",
        "# We print the moves corresponding to these strategies\n",
        "print(\"The corresponding rounds : \")\n",
        "for cor in listOfCoordinates : \n",
        "    print(g.actions[cor[0]], g.actions[cor[1]])\n",
        "\n",
        "# We print the corresponding scores\n",
        "print(\"The corresponding scores : \")\n",
        "for cor in listOfCoordinates : \n",
        "    print(g.scores[cor[0]][cor[1]])\n",
        "\n",
        "print(\" \")\n",
        "\n",
        "# We recover the indexes of the non-dominated strategy(ies)::\n",
        "print(\"Weakly dominated strategies method\")\n",
        "listOfCoordinates = getDominantStrategies(g, strict=\"False\")\n",
        "print(\"Non-dominated strategies indexes : \")\n",
        "print(listOfCoordinates)\n",
        "\n",
        "# We print the moves corresponding to these strategies\n",
        "print(\"The corresponding rounds : \")\n",
        "for cor in listOfCoordinates : \n",
        "    print(g.actions[cor[0]], g.actions[cor[1]])\n",
        "\n",
        "# We print the corresponding scores\n",
        "print(\"The corresponding scores : \")\n",
        "for cor in listOfCoordinates : \n",
        "    print(g.scores[cor[0]][cor[1]])"
      ],
      "metadata": {
        "colab": {
          "base_uri": "https://localhost:8080/"
        },
        "id": "4nyt6Ns5M0Ka",
        "outputId": "845060dc-bd7e-4043-eca1-27a00efbc16e"
      },
      "execution_count": 11,
      "outputs": [
        {
          "output_type": "stream",
          "name": "stdout",
          "text": [
            "Strongly dominated strategies method\n",
            "Non-dominated strategies indexes : \n",
            "[(0, 0), (0, 1), (1, 0), (1, 1)]\n",
            "The corresponding rounds : \n",
            "Opera Opera\n",
            "Opera Stadium\n",
            "Stadium Opera\n",
            "Stadium Stadium\n",
            "The corresponding scores : \n",
            "(3, 2)\n",
            "(1, 1)\n",
            "(0, 0)\n",
            "(2, 3)\n",
            " \n",
            "Weakly dominated strategies method\n",
            "Non-dominated strategies indexes : \n",
            "[(0, 0), (0, 1), (1, 0), (1, 1)]\n",
            "The corresponding rounds : \n",
            "Opera Opera\n",
            "Opera Stadium\n",
            "Stadium Opera\n",
            "Stadium Stadium\n",
            "The corresponding scores : \n",
            "(3, 2)\n",
            "(1, 1)\n",
            "(0, 0)\n",
            "(2, 3)\n"
          ]
        }
      ]
    },
    {
      "cell_type": "code",
      "source": [
        "# Simplify the following abstract game. Is there an equilibrium in dominant strategies?\n",
        "exo=[(3,6),(7,1),(4,8),(5,1),(8,2),(6,1),(6,0),(6,2),(3,2)]\n",
        "g = Game(exo,['A','B','C'])\n",
        "\n",
        "# the answer must be a single issue (B,B)->(8,2)\n",
        "listOfCoordinates = getDominantStrategies(g)\n",
        "print(listOfCoordinates)"
      ],
      "metadata": {
        "colab": {
          "base_uri": "https://localhost:8080/"
        },
        "id": "pBSI4_zYM25M",
        "outputId": "961df124-9f5d-4809-c947-b37ff9c647a7"
      },
      "execution_count": 12,
      "outputs": [
        {
          "output_type": "stream",
          "name": "stdout",
          "text": [
            "[(1, 1)]\n"
          ]
        }
      ]
    },
    {
      "cell_type": "markdown",
      "source": [
        "## Prisoner's Dilemma"
      ],
      "metadata": {
        "id": "M44y6enANA7Z"
      }
    },
    {
      "cell_type": "code",
      "source": [
        "g = Game(dp,['C','D'])\n",
        "\n",
        "\n",
        "print(\"There is one Nash balance for the prisonner's dilemma\")\n",
        "listOfCoordinates = g.getNash()\n",
        "for cor in listOfCoordinates : \n",
        "    print(g.actions[cor[0]], g.actions[cor[1]])\n",
        "print(\" \")\n",
        "\n",
        "print(\"There are three Pareto optimas for the prisoner's dilemma\")\n",
        "listOfCoordinates = g.getPareto()\n",
        "for cor in listOfCoordinates : \n",
        "    print(g.actions[cor[0]], g.actions[cor[1]])\n",
        "print(\" \")\n",
        "\n",
        "print(\"The strictly dominant strategy for the prisoner's dilemma is the strategy where both players choose to Defect.\")\n",
        "listOfCoordinates = getDominantStrategies(g)\n",
        "for cor in listOfCoordinates : \n",
        "    print(g.actions[cor[0]], g.actions[cor[1]])\n",
        "print(\" \")"
      ],
      "metadata": {
        "colab": {
          "base_uri": "https://localhost:8080/"
        },
        "id": "Z6smZDvMM59q",
        "outputId": "7a8a4876-6104-4709-99f0-02235dc11323"
      },
      "execution_count": 15,
      "outputs": [
        {
          "output_type": "stream",
          "name": "stdout",
          "text": [
            "There is one Nash balance for the prisonner's dilemma\n",
            "D D\n",
            " \n",
            "There are three Pareto optimas for the prisoner's dilemma\n",
            "C C\n",
            "D C\n",
            "C D\n",
            " \n",
            "The strictly dominant strategy for the prisoner's dilemma is the strategy where both players choose to Defect.\n",
            "D D\n",
            " \n"
          ]
        }
      ]
    },
    {
      "cell_type": "markdown",
      "source": [
        "## Random Game Matrix"
      ],
      "metadata": {
        "id": "NA-KmwI0Ncrb"
      }
    },
    {
      "cell_type": "code",
      "source": [
        "x = np.random.randint(0, 5, (3,3))\n",
        "y = np.random.randint(0, 5, (3,3))\n",
        "couples = [(a,b) for a,b in zip(x.flatten(),y.flatten())]\n",
        "g = Game(couples, None)\n",
        "print(g.scores)\n"
      ],
      "metadata": {
        "colab": {
          "base_uri": "https://localhost:8080/"
        },
        "id": "kV8sw-C7ND82",
        "outputId": "edbbaf86-15a0-4585-f819-77ad4c2147d6"
      },
      "execution_count": 16,
      "outputs": [
        {
          "output_type": "stream",
          "name": "stdout",
          "text": [
            "[[(3, 1) (1, 1) (3, 4)]\n",
            " [(4, 0) (2, 4) (4, 2)]\n",
            " [(2, 0) (3, 1) (2, 2)]]\n"
          ]
        }
      ]
    },
    {
      "cell_type": "code",
      "source": [
        "# Find the Nash equilibrium, Pareto optimum and the dominated strategy for this game\n",
        "\n",
        "import itertools;\n",
        "import random;\n",
        "\n",
        "def numberOfGames(valeurs, nbCoups):\n",
        "    return len(valeurs)**((nbCoups**2)*2)\n",
        "\n",
        "print(\"Number of games : \", numberOfGames([1,2],2))\n",
        "\n",
        "def enumAllGames(valeurs, nbCoups):\n",
        "    res = [q for q in itertools.product([p for p in itertools.product(list(valeurs), repeat=2)], repeat=nbCoups**2)]\n",
        "    return [[res[j][k] for k in range(nbCoups**2)] for j in range(len(res))]\n",
        "\n",
        "n = enumAllGames([1,2],2)\n",
        "print(\"Printing of 10 possible random sets in this set\")\n",
        "for i in range (10):\n",
        "    print(random.choice(n))"
      ],
      "metadata": {
        "colab": {
          "base_uri": "https://localhost:8080/"
        },
        "id": "CvjdAwFcNf0x",
        "outputId": "9038316e-ca33-480b-8635-ef60e681caf0"
      },
      "execution_count": 17,
      "outputs": [
        {
          "output_type": "stream",
          "name": "stdout",
          "text": [
            "Number of games :  256\n",
            "Printing of 10 possible random sets in this set\n",
            "[(2, 1), (1, 1), (1, 2), (1, 1)]\n",
            "[(1, 1), (1, 2), (2, 1), (1, 2)]\n",
            "[(2, 2), (2, 2), (1, 2), (2, 1)]\n",
            "[(1, 1), (1, 1), (2, 1), (2, 2)]\n",
            "[(1, 2), (1, 1), (1, 1), (2, 2)]\n",
            "[(1, 1), (2, 1), (2, 1), (1, 2)]\n",
            "[(1, 2), (1, 2), (2, 1), (1, 2)]\n",
            "[(2, 2), (2, 1), (1, 1), (2, 1)]\n",
            "[(1, 1), (1, 1), (1, 2), (1, 2)]\n",
            "[(1, 2), (2, 1), (1, 2), (1, 1)]\n"
          ]
        }
      ]
    },
    {
      "cell_type": "code",
      "source": [
        "def countNashEquilibria(valeurs, coups):\n",
        "    results = [len(Game(i, None).getNash()) for i in enumAllGames(valeurs, coups)]\n",
        "    return dict((i, results.count(i)) for i in set(results))\n"
      ],
      "metadata": {
        "id": "NoYODwewNoQ6"
      },
      "execution_count": 18,
      "outputs": []
    },
    {
      "cell_type": "code",
      "source": [
        "# How many 2-choices games built with (1, 2) have x Nash equilibria?\n",
        "countNashEquilibria([1, 2], 2)"
      ],
      "metadata": {
        "colab": {
          "base_uri": "https://localhost:8080/"
        },
        "id": "oXimjcQmNt5A",
        "outputId": "aa389939-989f-43f0-c446-81b56d9c01bb"
      },
      "execution_count": 19,
      "outputs": [
        {
          "output_type": "execute_result",
          "data": {
            "text/plain": [
              "{0: 2, 1: 44, 2: 114, 3: 80, 4: 16}"
            ]
          },
          "metadata": {},
          "execution_count": 19
        }
      ]
    },
    {
      "cell_type": "code",
      "source": [
        "nbCoups=2\n",
        "res = [q for q in itertools.combinations([p for p in itertools.product([0,1,3,5], repeat=2)], nbCoups**2)]\n",
        "games = [[res[j][k] for k in range(nbCoups**2)] for j in range(len(res))]\n",
        "print(str(len(games))+\" games studied.\")\n",
        "r = []\n",
        "for g in games:\n",
        "    if ((sorted(Game(g,None).getPareto()) == sorted(Game(g,None).getNash())) and (len(set(g)) == len(g))):\n",
        "        r.append(g)\n",
        "r"
      ],
      "metadata": {
        "colab": {
          "base_uri": "https://localhost:8080/"
        },
        "id": "bxjRREy6NvPQ",
        "outputId": "2fd28452-2444-4c05-fe6d-3caeb16382c3"
      },
      "execution_count": 20,
      "outputs": [
        {
          "output_type": "stream",
          "name": "stdout",
          "text": [
            "1820 games studied.\n"
          ]
        },
        {
          "output_type": "execute_result",
          "data": {
            "text/plain": [
              "[[(0, 0), (0, 1), (0, 3), (1, 5)],\n",
              " [(0, 0), (0, 1), (0, 3), (3, 5)],\n",
              " [(0, 0), (0, 1), (0, 3), (5, 5)],\n",
              " [(0, 0), (0, 1), (1, 0), (3, 3)],\n",
              " [(0, 0), (0, 1), (1, 0), (3, 5)],\n",
              " [(0, 0), (0, 1), (1, 0), (5, 3)],\n",
              " [(0, 0), (0, 1), (1, 0), (5, 5)],\n",
              " [(0, 0), (0, 1), (1, 1), (3, 3)],\n",
              " [(0, 0), (0, 1), (1, 1), (3, 5)],\n",
              " [(0, 0), (0, 1), (1, 1), (5, 3)],\n",
              " [(0, 0), (0, 1), (1, 1), (5, 5)],\n",
              " [(0, 0), (0, 1), (1, 3), (3, 5)],\n",
              " [(0, 0), (0, 1), (1, 3), (5, 5)],\n",
              " [(0, 0), (0, 1), (3, 0), (5, 3)],\n",
              " [(0, 0), (0, 1), (3, 0), (5, 5)],\n",
              " [(0, 0), (0, 1), (3, 1), (5, 3)],\n",
              " [(0, 0), (0, 1), (3, 1), (5, 5)],\n",
              " [(0, 0), (0, 1), (3, 3), (5, 5)],\n",
              " [(0, 0), (0, 3), (1, 0), (3, 5)],\n",
              " [(0, 0), (0, 3), (1, 0), (5, 5)],\n",
              " [(0, 0), (0, 3), (1, 1), (3, 5)],\n",
              " [(0, 0), (0, 3), (1, 1), (5, 5)],\n",
              " [(0, 0), (0, 3), (1, 3), (3, 5)],\n",
              " [(0, 0), (0, 3), (1, 3), (5, 5)],\n",
              " [(0, 0), (0, 3), (3, 0), (5, 5)],\n",
              " [(0, 0), (0, 3), (3, 1), (5, 5)],\n",
              " [(0, 0), (0, 3), (3, 3), (5, 5)],\n",
              " [(0, 0), (1, 0), (1, 1), (3, 3)],\n",
              " [(0, 0), (1, 0), (1, 1), (3, 5)],\n",
              " [(0, 0), (1, 0), (1, 1), (5, 3)],\n",
              " [(0, 0), (1, 0), (1, 1), (5, 5)],\n",
              " [(0, 0), (1, 0), (1, 3), (3, 5)],\n",
              " [(0, 0), (1, 0), (1, 3), (5, 5)],\n",
              " [(0, 0), (1, 0), (3, 0), (5, 1)],\n",
              " [(0, 0), (1, 0), (3, 0), (5, 3)],\n",
              " [(0, 0), (1, 0), (3, 0), (5, 5)],\n",
              " [(0, 0), (1, 0), (3, 1), (5, 3)],\n",
              " [(0, 0), (1, 0), (3, 1), (5, 5)],\n",
              " [(0, 0), (1, 0), (3, 3), (5, 5)],\n",
              " [(0, 0), (1, 1), (1, 3), (3, 5)],\n",
              " [(0, 0), (1, 1), (1, 3), (5, 5)],\n",
              " [(0, 0), (1, 1), (3, 0), (5, 3)],\n",
              " [(0, 0), (1, 1), (3, 0), (5, 5)],\n",
              " [(0, 0), (1, 1), (3, 1), (5, 3)],\n",
              " [(0, 0), (1, 1), (3, 1), (5, 5)],\n",
              " [(0, 0), (1, 1), (3, 3), (5, 5)],\n",
              " [(0, 0), (1, 3), (3, 0), (5, 5)],\n",
              " [(0, 0), (1, 3), (3, 1), (5, 5)],\n",
              " [(0, 0), (1, 3), (3, 3), (5, 5)],\n",
              " [(0, 0), (3, 0), (3, 1), (5, 3)],\n",
              " [(0, 0), (3, 0), (3, 1), (5, 5)],\n",
              " [(0, 0), (3, 0), (3, 3), (5, 5)],\n",
              " [(0, 0), (3, 1), (3, 3), (5, 5)],\n",
              " [(0, 1), (0, 3), (1, 0), (3, 5)],\n",
              " [(0, 1), (0, 3), (1, 0), (5, 5)],\n",
              " [(0, 1), (0, 3), (1, 1), (3, 5)],\n",
              " [(0, 1), (0, 3), (1, 1), (5, 5)],\n",
              " [(0, 1), (0, 3), (1, 3), (3, 5)],\n",
              " [(0, 1), (0, 3), (1, 3), (5, 5)],\n",
              " [(0, 1), (0, 3), (3, 0), (5, 5)],\n",
              " [(0, 1), (0, 3), (3, 1), (5, 5)],\n",
              " [(0, 1), (0, 3), (3, 3), (5, 5)],\n",
              " [(0, 1), (1, 0), (1, 1), (3, 3)],\n",
              " [(0, 1), (1, 0), (1, 1), (3, 5)],\n",
              " [(0, 1), (1, 0), (1, 1), (5, 3)],\n",
              " [(0, 1), (1, 0), (1, 1), (5, 5)],\n",
              " [(0, 1), (1, 0), (1, 3), (3, 5)],\n",
              " [(0, 1), (1, 0), (1, 3), (5, 5)],\n",
              " [(0, 1), (1, 0), (3, 0), (5, 3)],\n",
              " [(0, 1), (1, 0), (3, 0), (5, 5)],\n",
              " [(0, 1), (1, 0), (3, 1), (5, 3)],\n",
              " [(0, 1), (1, 0), (3, 1), (5, 5)],\n",
              " [(0, 1), (1, 0), (3, 3), (5, 5)],\n",
              " [(0, 1), (1, 1), (1, 3), (3, 5)],\n",
              " [(0, 1), (1, 1), (1, 3), (5, 5)],\n",
              " [(0, 1), (1, 1), (3, 0), (5, 3)],\n",
              " [(0, 1), (1, 1), (3, 0), (5, 5)],\n",
              " [(0, 1), (1, 1), (3, 1), (5, 3)],\n",
              " [(0, 1), (1, 1), (3, 1), (5, 5)],\n",
              " [(0, 1), (1, 1), (3, 3), (5, 5)],\n",
              " [(0, 1), (1, 3), (3, 0), (5, 5)],\n",
              " [(0, 1), (1, 3), (3, 1), (5, 5)],\n",
              " [(0, 1), (1, 3), (3, 3), (5, 5)],\n",
              " [(0, 1), (3, 0), (3, 1), (5, 3)],\n",
              " [(0, 1), (3, 0), (3, 1), (5, 5)],\n",
              " [(0, 1), (3, 0), (3, 3), (5, 5)],\n",
              " [(0, 1), (3, 1), (3, 3), (5, 5)],\n",
              " [(0, 3), (1, 0), (1, 1), (3, 5)],\n",
              " [(0, 3), (1, 0), (1, 1), (5, 5)],\n",
              " [(0, 3), (1, 0), (1, 3), (3, 5)],\n",
              " [(0, 3), (1, 0), (1, 3), (5, 5)],\n",
              " [(0, 3), (1, 0), (3, 0), (5, 5)],\n",
              " [(0, 3), (1, 0), (3, 1), (5, 5)],\n",
              " [(0, 3), (1, 0), (3, 3), (5, 5)],\n",
              " [(0, 3), (1, 1), (1, 3), (3, 5)],\n",
              " [(0, 3), (1, 1), (1, 3), (5, 5)],\n",
              " [(0, 3), (1, 1), (3, 0), (5, 5)],\n",
              " [(0, 3), (1, 1), (3, 1), (5, 5)],\n",
              " [(0, 3), (1, 1), (3, 3), (5, 5)],\n",
              " [(0, 3), (1, 3), (3, 0), (5, 5)],\n",
              " [(0, 3), (1, 3), (3, 1), (5, 5)],\n",
              " [(0, 3), (1, 3), (3, 3), (5, 5)],\n",
              " [(0, 3), (3, 0), (3, 1), (5, 5)],\n",
              " [(0, 3), (3, 0), (3, 3), (5, 5)],\n",
              " [(0, 3), (3, 1), (3, 3), (5, 5)],\n",
              " [(1, 0), (1, 1), (1, 3), (3, 5)],\n",
              " [(1, 0), (1, 1), (1, 3), (5, 5)],\n",
              " [(1, 0), (1, 1), (3, 0), (5, 3)],\n",
              " [(1, 0), (1, 1), (3, 0), (5, 5)],\n",
              " [(1, 0), (1, 1), (3, 1), (5, 3)],\n",
              " [(1, 0), (1, 1), (3, 1), (5, 5)],\n",
              " [(1, 0), (1, 1), (3, 3), (5, 5)],\n",
              " [(1, 0), (1, 3), (3, 0), (5, 5)],\n",
              " [(1, 0), (1, 3), (3, 1), (5, 5)],\n",
              " [(1, 0), (1, 3), (3, 3), (5, 5)],\n",
              " [(1, 0), (3, 0), (3, 1), (5, 3)],\n",
              " [(1, 0), (3, 0), (3, 1), (5, 5)],\n",
              " [(1, 0), (3, 0), (3, 3), (5, 5)],\n",
              " [(1, 0), (3, 1), (3, 3), (5, 5)],\n",
              " [(1, 1), (1, 3), (3, 0), (5, 5)],\n",
              " [(1, 1), (1, 3), (3, 1), (5, 5)],\n",
              " [(1, 1), (1, 3), (3, 3), (5, 5)],\n",
              " [(1, 1), (3, 0), (3, 1), (5, 3)],\n",
              " [(1, 1), (3, 0), (3, 1), (5, 5)],\n",
              " [(1, 1), (3, 0), (3, 3), (5, 5)],\n",
              " [(1, 1), (3, 1), (3, 3), (5, 5)],\n",
              " [(1, 3), (3, 0), (3, 1), (5, 5)],\n",
              " [(1, 3), (3, 0), (3, 3), (5, 5)],\n",
              " [(1, 3), (3, 1), (3, 3), (5, 5)],\n",
              " [(3, 0), (3, 1), (3, 3), (5, 5)]]"
            ]
          },
          "metadata": {},
          "execution_count": 20
        }
      ]
    },
    {
      "cell_type": "code",
      "source": [
        ""
      ],
      "metadata": {
        "id": "pU28ZGRUNxrr"
      },
      "execution_count": null,
      "outputs": []
    }
  ]
}